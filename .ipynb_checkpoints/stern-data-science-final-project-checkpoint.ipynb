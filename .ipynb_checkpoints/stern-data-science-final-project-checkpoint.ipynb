{
 "cells": [
  {
   "cell_type": "markdown",
   "metadata": {
    "colab_type": "text",
    "id": "view-in-github"
   },
   "source": [
    "<a href=\"https://colab.research.google.com/github/claurent/stern-data-science-final-project/blob/master/stern-data-science-final-project.ipynb\" target=\"_parent\"><img src=\"https://colab.research.google.com/assets/colab-badge.svg\" alt=\"Open In Colab\"/></a>"
   ]
  },
  {
   "cell_type": "markdown",
   "metadata": {
    "colab_type": "text",
    "id": "VDi8LeBuhFEs"
   },
   "source": [
    "# Data Science Final Project\n",
    "Charles Laurent, Jenny Park, AJ Marino"
   ]
  },
  {
   "cell_type": "code",
   "execution_count": 1,
   "metadata": {},
   "outputs": [],
   "source": [
    "%matplotlib inline\n",
    "import matplotlib.pyplot as plt\n",
    "import pandas as pd\n",
    "import numpy as np\n",
    "\n",
    "from sklearn import metrics"
   ]
  },
  {
   "cell_type": "code",
   "execution_count": 2,
   "metadata": {},
   "outputs": [
    {
     "data": {
      "text/html": [
       "<style>.container { width:96% !important; }</style>"
      ],
      "text/plain": [
       "<IPython.core.display.HTML object>"
      ]
     },
     "metadata": {},
     "output_type": "display_data"
    }
   ],
   "source": [
    "from IPython.core.display import display, HTML\n",
    "display(HTML(\"<style>.container { width:96% !important; }</style>\"))\n",
    "\n",
    "pd.set_option('display.max_columns', None)"
   ]
  },
  {
   "cell_type": "code",
   "execution_count": 3,
   "metadata": {},
   "outputs": [],
   "source": [
    "datadir='../dev/project/CollegeScorecard_Raw_Data'"
   ]
  },
  {
   "cell_type": "code",
   "execution_count": 4,
   "metadata": {},
   "outputs": [],
   "source": [
    "data_dict = {}"
   ]
  },
  {
   "cell_type": "code",
   "execution_count": 5,
   "metadata": {},
   "outputs": [],
   "source": [
    "years = [\n",
    "#     '1996_97',\n",
    "#     '1997_98',\n",
    "#     '1998_99',\n",
    "#     '1999_00',\n",
    "#     '2000_01',\n",
    "#     '2001_02',\n",
    "#     '2002_03',\n",
    "#     '2003_04',\n",
    "#     '2004_05',\n",
    "#     '2005_06',\n",
    "#     '2006_07',\n",
    "#     '2007_08',\n",
    "#     '2008_09',\n",
    "#     '2009_10',\n",
    "#     '2010_11',\n",
    "#     '2011_12',\n",
    "    '2012_13',\n",
    "    '2013_14',\n",
    "    '2014_15',\n",
    "    '2015_16',\n",
    "    '2016_17',\n",
    "    '2017_18'\n",
    "]"
   ]
  },
  {
   "cell_type": "code",
   "execution_count": 6,
   "metadata": {},
   "outputs": [],
   "source": [
    "for year in years:\n",
    "    data_dict[year] = pd.read_csv(f'{datadir}/MERGED{year}_PP.csv', low_memory=False)"
   ]
  },
  {
   "cell_type": "code",
   "execution_count": 7,
   "metadata": {},
   "outputs": [
    {
     "name": "stdout",
     "output_type": "stream",
     "text": [
      "(7793, 1977)\n",
      "(7804, 1977)\n",
      "(7703, 1977)\n",
      "(7593, 1977)\n",
      "(7175, 1977)\n",
      "(7112, 1977)\n"
     ]
    }
   ],
   "source": [
    "for year in years:\n",
    "    print(data_dict[year].shape)"
   ]
  },
  {
   "cell_type": "code",
   "execution_count": null,
   "metadata": {},
   "outputs": [],
   "source": []
  },
  {
   "cell_type": "code",
   "execution_count": 8,
   "metadata": {},
   "outputs": [],
   "source": [
    "autocompleted_features = [\n",
    "    'INSTNM',\n",
    "    'CITY',\n",
    "    'ALIAS'\n",
    "]\n",
    "\n",
    "string_features = [\n",
    "    'OPEID',\n",
    "    'OPEID6',\n",
    "    'STABBR',\n",
    "    'ZIP',\n",
    "    'ACCREDAGENCY',\n",
    "    'INSTURL',\n",
    "    'NPCURL',\n",
    "    'REPAY_DT_MDN',\n",
    "    'SEPAR_DT_MDN',\n",
    "    'ACCREDCODE',\n",
    "    'T4APPROVALDATE',\n",
    "    'CIPCODE1',\n",
    "    'CIPCODE2',\n",
    "    'CIPCODE3',\n",
    "    'CIPCODE4',\n",
    "    'CIPCODE5',\n",
    "    'CIPCODE6',\n",
    "    'CIPTITLE1',\n",
    "    'CIPTITLE2',\n",
    "    'CIPTITLE3',\n",
    "    'CIPTITLE4',\n",
    "    'CIPTITLE5',\n",
    "    'CIPTITLE6'\n",
    "]"
   ]
  },
  {
   "cell_type": "code",
   "execution_count": 21,
   "metadata": {},
   "outputs": [],
   "source": [
    "# df2012 = pd.read_csv(f'{datadir}/MERGED2011_12_PP.csv')\n",
    "df = data_dict['2012_13']"
   ]
  },
  {
   "cell_type": "code",
   "execution_count": 22,
   "metadata": {},
   "outputs": [
    {
     "name": "stdout",
     "output_type": "stream",
     "text": [
      "object\n",
      "object\n",
      "object\n"
     ]
    }
   ],
   "source": [
    "for autocompleted_feature in autocompleted_features:\n",
    "    df[autocompleted_feature] = df[autocompleted_feature].astype(str)\n",
    "    print(df[autocompleted_feature].dtypes)"
   ]
  },
  {
   "cell_type": "code",
   "execution_count": 23,
   "metadata": {},
   "outputs": [
    {
     "name": "stdout",
     "output_type": "stream",
     "text": [
      "object\n",
      "object\n",
      "object\n",
      "object\n",
      "object\n",
      "object\n",
      "object\n",
      "object\n",
      "object\n",
      "object\n",
      "object\n",
      "object\n",
      "object\n",
      "object\n",
      "object\n",
      "object\n",
      "object\n",
      "object\n",
      "object\n",
      "object\n",
      "object\n",
      "object\n",
      "object\n"
     ]
    }
   ],
   "source": [
    "for string_feature in string_features:\n",
    "    df[string_feature] = df[string_feature].astype(str)\n",
    "    print(df[string_feature].dtypes)"
   ]
  },
  {
   "cell_type": "code",
   "execution_count": 24,
   "metadata": {},
   "outputs": [],
   "source": [
    "for colname in df.columns:\n",
    "    if (colname not in string_features) and (colname not in autocompleted_features):\n",
    "        if (df[colname].dtypes == 'object' or df[colname].dtypes == 'int64') and colname != 'UNITID':\n",
    "            df.drop(colname, 1, inplace=True)\n",
    "        \n",
    "#         print(df[colname].dtypes)\n",
    "#         df = df[df[colname] != 'PrivacySuppressed']\n",
    "#         df[colname] = df[colname].astype(float)\n"
   ]
  },
  {
   "cell_type": "code",
   "execution_count": 25,
   "metadata": {},
   "outputs": [
    {
     "data": {
      "text/plain": [
       "(7793, 758)"
      ]
     },
     "execution_count": 25,
     "metadata": {},
     "output_type": "execute_result"
    }
   ],
   "source": [
    "df.shape"
   ]
  },
  {
   "cell_type": "code",
   "execution_count": 41,
   "metadata": {},
   "outputs": [],
   "source": [
    "for colname in df.columns:\n",
    "    if (df[colname].unique().size ==1):\n",
    "        df.drop(colname, 1, inplace=True)\n",
    "\n",
    "# df['INSTURL'].unique().size"
   ]
  },
  {
   "cell_type": "code",
   "execution_count": 44,
   "metadata": {},
   "outputs": [
    {
     "data": {
      "text/plain": [
       "(7793, 414)"
      ]
     },
     "execution_count": 44,
     "metadata": {},
     "output_type": "execute_result"
    }
   ],
   "source": [
    "df.shape"
   ]
  },
  {
   "cell_type": "code",
   "execution_count": null,
   "metadata": {},
   "outputs": [],
   "source": []
  },
  {
   "cell_type": "code",
   "execution_count": null,
   "metadata": {},
   "outputs": [],
   "source": []
  },
  {
   "cell_type": "code",
   "execution_count": null,
   "metadata": {},
   "outputs": [],
   "source": []
  },
  {
   "cell_type": "code",
   "execution_count": null,
   "metadata": {},
   "outputs": [],
   "source": []
  },
  {
   "cell_type": "code",
   "execution_count": null,
   "metadata": {},
   "outputs": [],
   "source": [
    "# Remove all rows that how \"Privacy Suppressed\"\n",
    "# for colname in df.columns:\n",
    "#     if df[colname].dtypes == 'object':\n",
    "#         df = df[df[colname] != 'PrivacySuppressed']\n",
    "#         df[colname] = df[colname].astype(float)\n"
   ]
  },
  {
   "cell_type": "code",
   "execution_count": null,
   "metadata": {},
   "outputs": [],
   "source": [
    "i = 0\n",
    "for colname in df.columns:\n",
    "#     print (colname, df[colname].dtypes)\n",
    "    if (df[colname].dtypes == 'object'):\n",
    "        print (colname)\n",
    "        i = i + 1\n",
    "print(i)"
   ]
  },
  {
   "cell_type": "code",
   "execution_count": null,
   "metadata": {},
   "outputs": [],
   "source": [
    "df['DEATH_YR2_RT'].unique"
   ]
  },
  {
   "cell_type": "code",
   "execution_count": null,
   "metadata": {},
   "outputs": [],
   "source": [
    "df.head()"
   ]
  },
  {
   "cell_type": "code",
   "execution_count": null,
   "metadata": {},
   "outputs": [],
   "source": []
  },
  {
   "cell_type": "code",
   "execution_count": null,
   "metadata": {},
   "outputs": [],
   "source": [
    "df2012.shape"
   ]
  },
  {
   "cell_type": "code",
   "execution_count": null,
   "metadata": {},
   "outputs": [],
   "source": [
    "df2012.head()"
   ]
  },
  {
   "cell_type": "code",
   "execution_count": null,
   "metadata": {},
   "outputs": [],
   "source": [
    "trainFeatures = [\n",
    "    'UNITID',\n",
    "    'NPT4_PUB',\n",
    "    'NPT4_PRIV',\n",
    "#     'NPT4_PROG',\n",
    "    'NPT4_OTHER',\n",
    "    'NPT41_PUB',\n",
    "    'NPT42_PUB',\n",
    "    'NPT43_PUB',\n",
    "    'NPT44_PUB',\n",
    "    'NPT45_PUB',\n",
    "    'NPT41_PRIV',\n",
    "    'NPT42_PRIV',\n",
    "    'NPT43_PRIV',\n",
    "    'NPT44_PRIV',\n",
    "    'NPT45_PRIV'\n",
    "]\n",
    "\n",
    "targetFeatures = [\n",
    "    'DEBT_N',\n",
    "    'GRAD_DEBT_N',\n",
    "    'WDRAW_DEBT_N',\n",
    "    'LO_INC_DEBT_N',\n",
    "    'MD_INC_DEBT_N',\n",
    "    'HI_INC_DEBT_N',\n",
    "    'DEP_DEBT_N',\n",
    "    'IND_DEBT_N',\n",
    "    'PELL_DEBT_N',\n",
    "    'NOPELL_DEBT_N',\n",
    "    'FEMALE_DEBT_N',\n",
    "    'MALE_DEBT_N',\n",
    "    'FIRSTGEN_DEBT_N',\n",
    "    'NOTFIRSTGEN_DEBT_N',\n",
    "    'GRAD_DEBT_MDN10YR',\n",
    "    'CUML_DEBT_N',\n",
    "    'CUML_DEBT_P90',\n",
    "    'CUML_DEBT_P75',\n",
    "    'CUML_DEBT_P25',\n",
    "    'CUML_DEBT_P10',\n",
    "]\n",
    "\n",
    "\n",
    "allFeatures = trainFeatures.copy()\n",
    "allFeatures.extend(targetFeatures)"
   ]
  },
  {
   "cell_type": "code",
   "execution_count": null,
   "metadata": {},
   "outputs": [],
   "source": [
    "len(allFeatures)"
   ]
  },
  {
   "cell_type": "code",
   "execution_count": null,
   "metadata": {},
   "outputs": [],
   "source": [
    "def removeUnusedColumns(df):\n",
    "    return df[allFeatures]"
   ]
  },
  {
   "cell_type": "code",
   "execution_count": null,
   "metadata": {},
   "outputs": [],
   "source": [
    "df2012 = removeUnusedColumns(df2012)"
   ]
  },
  {
   "cell_type": "code",
   "execution_count": null,
   "metadata": {},
   "outputs": [],
   "source": [
    "df2012.shape"
   ]
  },
  {
   "cell_type": "code",
   "execution_count": null,
   "metadata": {},
   "outputs": [],
   "source": [
    "# numeric_features = [ colname for colname in dat.columns if dat[colname].dtypes!='object']\n",
    "\n",
    "\n",
    "for colname in df2012.columns:\n",
    "    if df2012[colname].dtypes == 'object':\n",
    "        df2012 = df2012[df2012[colname] != 'PrivacySuppressed']\n",
    "        df2012[colname] = df2012[colname].astype(float)\n",
    "\n",
    "df2012 = df2012.fillna(0)\n",
    "# df2012.head()\n",
    "# df2012 = df2012[allFeatures]"
   ]
  },
  {
   "cell_type": "code",
   "execution_count": null,
   "metadata": {},
   "outputs": [],
   "source": [
    "df2012.head()"
   ]
  },
  {
   "cell_type": "code",
   "execution_count": null,
   "metadata": {},
   "outputs": [],
   "source": [
    "plt.plot(df2012['NPT4_PRIV'])\n",
    "# for feature in allFeatures:\n",
    "#     len(df2012['NPT4_PROG'].unique())"
   ]
  },
  {
   "cell_type": "code",
   "execution_count": null,
   "metadata": {},
   "outputs": [],
   "source": [
    "df2012[df2012['NPT4_PRIV'] < 0]"
   ]
  },
  {
   "cell_type": "code",
   "execution_count": null,
   "metadata": {},
   "outputs": [],
   "source": []
  }
 ],
 "metadata": {
  "colab": {
   "collapsed_sections": [],
   "include_colab_link": true,
   "name": "Untitled0.ipynb",
   "provenance": []
  },
  "kernelspec": {
   "display_name": "Python 3",
   "language": "python",
   "name": "python3"
  },
  "language_info": {
   "codemirror_mode": {
    "name": "ipython",
    "version": 3
   },
   "file_extension": ".py",
   "mimetype": "text/x-python",
   "name": "python",
   "nbconvert_exporter": "python",
   "pygments_lexer": "ipython3",
   "version": "3.7.4"
  }
 },
 "nbformat": 4,
 "nbformat_minor": 1
}
